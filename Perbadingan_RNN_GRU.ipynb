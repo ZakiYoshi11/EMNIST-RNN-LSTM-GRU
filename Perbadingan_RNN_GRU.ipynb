{
 "cells": [
  {
   "cell_type": "markdown",
   "id": "d772d72d",
   "metadata": {},
   "source": [
    "# 24917016 - Zaki Rusydi"
   ]
  },
  {
   "cell_type": "code",
   "execution_count": 1,
   "id": "b45a54f3",
   "metadata": {},
   "outputs": [],
   "source": [
    "import torch\n",
    "import torch.nn as nn\n",
    "import torchvision\n",
    "import torchvision.transforms as transforms"
   ]
  },
  {
   "cell_type": "code",
   "execution_count": 2,
   "id": "e8ec52a5",
   "metadata": {},
   "outputs": [],
   "source": [
    "# mengatur perangkat untuk digunakan\n",
    "# jika GPU tersedia, gunakan GPU, jika tidak, gunakan CPU\n",
    "device = torch.device('cuda' if torch.cuda.is_available() else 'cpu')"
   ]
  },
  {
   "cell_type": "code",
   "execution_count": null,
   "id": "30388a1f",
   "metadata": {},
   "outputs": [],
   "source": [
    "# mengatur hyperparameter dimana total inputan 784 dengan 28x28\n",
    "num_classes = 10\n",
    "num_epochs = 2\n",
    "batch_size = 100\n",
    "learning_rate = 0.001\n",
    "\n",
    "input_size = 28\n",
    "sequence_length = 28\n",
    "hidden_size = 128\n",
    "num_layers = 2"
   ]
  },
  {
   "cell_type": "markdown",
   "id": "33d1159f",
   "metadata": {},
   "source": [
    "#### Keterangan\n",
    "\n",
    "- **num_classes** artinya model mempresiksi class yang berbeda beda sesuai jumlah  yang ditentukn, misalnya 10 class yang berbeda beda\n",
    "- **num_epochs** artinya model melihat semua data latih sebanyak 2 kali, maksudnya yaitu jika model telah melihat keselurhan data maka iu dihitung 1 epoch\n",
    "- **batch_size** artinya  data pelatihan akan dibagi berdasarkan jumlah yang ditentukan, misalnya data dibagi dalam satu kelompok dimana berisi 100 gambar.\n",
    "- **learning_rate** memiliki arti seberapa besar model mengubah bobotnya saat melakukan training model. jika nilai yang ditentukan kecil maka model akan melakukan perubahan secara hati hati, jika menetapkan nilai terlalu besar ditakutkan nantinya model bisa melompat lompat dan menyebabkan model belajar dengan tidak benar.\n",
    "- **input_size** artinya setiap baris gambar dengan ukuran yang telah ditentukan maka akan dianggap sebagai input. misalnya gambar 28x28\n",
    "- **sequence_length** berarti model akan membaca langkah tergantung nilai yang ditetapkan. \n",
    "- **hidden_size** merupakan jumlah unit dan lapisan tersmbunyi yang ada di dalam model, dimana semakin besar nilainya maka model dapat menyimpan lebih banyak informasi. akan tetapi membuat model menjadi lebih besar dan juga membutuhkan lebih banyak data.\n",
    "- **num_layers** artinya model menggunakan jumlah layer yang telah ditentukan. misalnya dalam code yaitu model menggunakan 2 layer/lapisan model RNN diamana hal tersebut dapat membantu model agar dapat belajar lebih kompleks lagi."
   ]
  },
  {
   "cell_type": "code",
   "execution_count": 4,
   "id": "0d31c104",
   "metadata": {},
   "outputs": [],
   "source": [
    "# melakukan import dataset MNIST\n",
    "train_dataset = torchvision.datasets.MNIST(root='./data', \n",
    "                                           train=True, \n",
    "                                           transform=transforms.ToTensor(),  \n",
    "                                           download=True)\n",
    "\n",
    "test_dataset = torchvision.datasets.MNIST(root='./data', \n",
    "                                          train=False, \n",
    "                                          transform=transforms.ToTensor())"
   ]
  },
  {
   "cell_type": "code",
   "execution_count": 5,
   "id": "e4eeca68",
   "metadata": {},
   "outputs": [],
   "source": [
    "# mengelompokkan data menjadi batch\n",
    "train_loader = torch.utils.data.DataLoader(dataset=train_dataset, \n",
    "                                           batch_size=batch_size, \n",
    "                                           shuffle=True)\n",
    "\n",
    "test_loader = torch.utils.data.DataLoader(dataset=test_dataset, \n",
    "                                          batch_size=batch_size, \n",
    "                                          shuffle=False)"
   ]
  },
  {
   "cell_type": "markdown",
   "id": "e204cba5",
   "metadata": {},
   "source": [
    "**Note**: \n",
    "\n",
    "saat melakukann pelatihan model data akan diacak setiap epochnya \"shuffle=true\" berfugsi agar model tidak belajar berdasarkan urutan data. sedangkan pada data test tidak diperlukan pengacakan karena data test hanya berfungsi untuk melakukan test untuk melihat sebarap baik model dapat bekerja."
   ]
  },
  {
   "cell_type": "markdown",
   "id": "fa729484",
   "metadata": {},
   "source": [
    "# RNN"
   ]
  },
  {
   "cell_type": "code",
   "execution_count": 6,
   "id": "d4c73399",
   "metadata": {},
   "outputs": [],
   "source": [
    "class RNN(nn.Module):\n",
    "    def __init__(self, input_size, hidden_size, num_layers, num_classes):\n",
    "        super(RNN, self).__init__()\n",
    "        self.hidden_size = hidden_size\n",
    "        self.num_layers = num_layers\n",
    "        \n",
    "        self.rnn = nn.RNN(input_size, hidden_size, num_layers, batch_first=True)\n",
    "        self.fc = nn.Linear(hidden_size, num_classes)\n",
    "\n",
    "    def forward(self, x):\n",
    "        # Menetapkan kondisi awal hidden state\n",
    "        # x: (n, 28, 28), h0: (2, n, 128)\n",
    "        # dimana n adalah ukuran batch, 28x28 adalah ukuran gambar, dan 128 adalah hidden size\n",
    "        h0 = torch.zeros(self.num_layers, x.size(0), self.hidden_size).to(device)\n",
    "        \n",
    "        # Melakukan propagasi maju pada RNN\n",
    "        # out: (n, 28, 128)\n",
    "        # output berukuran batch_size x sequence_length x hidden_size\n",
    "        out, _ = self.rnn(x, h0)\n",
    "        \n",
    "        # Mengambil hidden state dari langkah terakhir\n",
    "        # out: (n, 128)\n",
    "        # mengambil hasil terakhir dari sequence\n",
    "        out = out[:, -1, :]\n",
    "         \n",
    "        # out: (n, 10)\n",
    "        # melakukan klasifikasi menggunakan fully connected layer\n",
    "        out = self.fc(out)\n",
    "        return out\n"
   ]
  },
  {
   "cell_type": "code",
   "execution_count": 7,
   "id": "6e6074a0",
   "metadata": {},
   "outputs": [],
   "source": [
    "model = RNN(input_size, hidden_size, num_layers, num_classes).to(device)"
   ]
  },
  {
   "cell_type": "code",
   "execution_count": 8,
   "id": "948a23bd",
   "metadata": {},
   "outputs": [],
   "source": [
    "# mengukur seberapa jauh hasil prediksi model dari label yang seharusnya\n",
    "criterion = nn.CrossEntropyLoss()\n",
    "\n",
    "# menagtur dan melakukanperubahan pada bobot di dalam model berdasarkan loss pada langkah sebelumnya\n",
    "optimizer = torch.optim.Adam(model.parameters(), lr=learning_rate)  "
   ]
  },
  {
   "cell_type": "code",
   "execution_count": 9,
   "id": "26694baf",
   "metadata": {},
   "outputs": [
    {
     "name": "stdout",
     "output_type": "stream",
     "text": [
      "Epoch [1/2], Step [100/600], Loss: 0.9319\n",
      "Epoch [1/2], Step [200/600], Loss: 0.8280\n",
      "Epoch [1/2], Step [300/600], Loss: 0.5276\n",
      "Epoch [1/2], Step [400/600], Loss: 0.4540\n",
      "Epoch [1/2], Step [500/600], Loss: 0.4094\n",
      "Epoch [1/2], Step [600/600], Loss: 0.3768\n",
      "Epoch [2/2], Step [100/600], Loss: 0.2224\n",
      "Epoch [2/2], Step [200/600], Loss: 0.3118\n",
      "Epoch [2/2], Step [300/600], Loss: 0.2541\n",
      "Epoch [2/2], Step [400/600], Loss: 0.1583\n",
      "Epoch [2/2], Step [500/600], Loss: 0.1369\n",
      "Epoch [2/2], Step [600/600], Loss: 0.3224\n"
     ]
    }
   ],
   "source": [
    "# Melatih model\n",
    "n_total_steps = len(train_loader)\n",
    "for epoch in range(num_epochs):\n",
    "    for i, (images, labels) in enumerate(train_loader):  \n",
    "        # Mengubah bentuk gambar dari [N, 1, 28, 28] menjadi [N, 28, 28]\n",
    "        # agar sesuai dengan input RNN\n",
    "        images = images.reshape(-1, sequence_length, input_size).to(device)\n",
    "        labels = labels.to(device)\n",
    "        \n",
    "        # Melakukan prediksi dengan model\n",
    "        outputs = model(images)\n",
    "        loss = criterion(outputs, labels)\n",
    "        \n",
    "        # Memperbarui bobot model\n",
    "        optimizer.zero_grad()\n",
    "        loss.backward()\n",
    "        optimizer.step()\n",
    "        \n",
    "        # Menampilkan hasil pelatihan setiap 100 langkah\n",
    "        if (i+1) % 100 == 0:\n",
    "            print (f'Epoch [{epoch+1}/{num_epochs}], Step [{i+1}/{n_total_steps}], Loss: {loss.item():.4f}')"
   ]
  },
  {
   "cell_type": "markdown",
   "id": "b0babfc4",
   "metadata": {},
   "source": [
    " **Note:**\n",
    "\n",
    " dalam epoch satu loss nilai tinggi dimana awalnya 0.9564 menjadi 0.4793. akan tetapi pada epoch 2 model mengalami kemajuan dimana nilai loss rendah dimulai dari 0.1740 - 0.1965. hal ini memnadakan model belajar dari kesalahan sebelumnya dan semakin baik dalam melakukan proses prediksi"
   ]
  },
  {
   "cell_type": "code",
   "execution_count": 10,
   "id": "5260baac",
   "metadata": {},
   "outputs": [
    {
     "name": "stdout",
     "output_type": "stream",
     "text": [
      "Akurasi model pada 10000 gambar test: 92.74 %\n"
     ]
    }
   ],
   "source": [
    "# Test model\n",
    "# Dalam fase testing,  tidak perlu menghitung gradien (untuk menghemat memori)\n",
    "with torch.no_grad():\n",
    "\n",
    "    # menghitung jumlah prediksi yang benar dan menghitung total sampel yang diuji\n",
    "    n_correct = 0  \n",
    "    n_samples = 0  \n",
    "\n",
    "    for images, labels in test_loader:\n",
    "        # Mengubah bentuk gambar agar sesuai dengan input RNN\n",
    "        images = images.reshape(-1, sequence_length, input_size).to(device)\n",
    "        labels = labels.to(device)\n",
    "        \n",
    "        # Melakukan prediksi dengan model\n",
    "        outputs = model(images)\n",
    "        \n",
    "        # Mengambil nilai prediksi tertinggi sebagai hasil prediksi\n",
    "        _, predicted = torch.max(outputs.data, 1)\n",
    "        \n",
    "        # Menghitung total sampel dan prediksi yang benar\n",
    "        n_samples += labels.size(0)\n",
    "        n_correct += (predicted == labels).sum().item()\n",
    "\n",
    "    # Menghitung akurasi dalam persen\n",
    "    acc = 100.0 * n_correct / n_samples\n",
    "    print(f'Akurasi model pada 10000 gambar test: {acc} %')\n"
   ]
  },
  {
   "cell_type": "markdown",
   "id": "0b1f0d75",
   "metadata": {},
   "source": [
    "# GRU"
   ]
  },
  {
   "cell_type": "code",
   "execution_count": 11,
   "id": "69e8ea2e",
   "metadata": {},
   "outputs": [],
   "source": [
    "# menentukan hyperparameter\n",
    "input_size_gru = 28           \n",
    "sequence_length_gru = 28      \n",
    "hidden_size_gru = 128         \n",
    "num_layers_gru = 2            \n",
    "num_classes_gru = 10\n",
    "learning_rate_gru = 0.001     \n",
    "batch_size_gru = 100          \n",
    "num_epochs_gru = 10 "
   ]
  },
  {
   "cell_type": "code",
   "execution_count": null,
   "id": "16c07025",
   "metadata": {},
   "outputs": [],
   "source": [
    "class GRUU(nn.Module):\n",
    "    def __init__(self, input_size, hidden_size, num_layers, num_classes):\n",
    "        super(GRUU, self).__init__()\n",
    "        \n",
    "        # batch_first=True berarti input berbentuk (batch_size, sequence_length, input_size)\n",
    "        self.gru = nn.GRU(input_size, hidden_size, num_layers, batch_first=True)\n",
    "        \n",
    "        # Mengubah output GRU menjadi prediksi kelas\n",
    "        self.fc = nn.Linear(hidden_size, num_classes)\n",
    "\n",
    "    def forward(self, x):\n",
    "        \n",
    "        # # Memproses data melalui GRU, Mengabaikan hidden state terakhir dengan notasi '_', out berukuran (batch_size, sequence_length, hidden_size)\n",
    "        out, _ = self.gru(x)\n",
    "        \n",
    "        # out[:, -1, :] mengambil hidden state terakhir dari setiap sequence\n",
    "        out = self.fc(out[:, -1, :])\n",
    "        return out\n"
   ]
  },
  {
   "cell_type": "code",
   "execution_count": 13,
   "id": "3cc59782",
   "metadata": {},
   "outputs": [],
   "source": [
    "model_gru = RNN(input_size_gru, hidden_size_gru, num_layers_gru, num_classes_gru).to(device)"
   ]
  },
  {
   "cell_type": "code",
   "execution_count": 14,
   "id": "f57ca09e",
   "metadata": {},
   "outputs": [],
   "source": [
    "# menagtur dan melakukanperubahan pada bobot di dalam model berdasarkan loss pada langkah sebelumnya\n",
    "optimizer_gru= torch.optim.Adam(model_gru.parameters(), lr=learning_rate)"
   ]
  },
  {
   "cell_type": "code",
   "execution_count": 15,
   "id": "9dfddb94",
   "metadata": {},
   "outputs": [
    {
     "name": "stdout",
     "output_type": "stream",
     "text": [
      "Epoch [1/10], Step [100/600], Loss: 1.0016\n",
      "Epoch [1/10], Step [200/600], Loss: 0.6860\n",
      "Epoch [1/10], Step [300/600], Loss: 0.5482\n",
      "Epoch [1/10], Step [400/600], Loss: 0.4782\n",
      "Epoch [1/10], Step [500/600], Loss: 0.2626\n",
      "Epoch [1/10], Step [600/600], Loss: 0.4001\n",
      "Epoch [2/10], Step [100/600], Loss: 0.4304\n",
      "Epoch [2/10], Step [200/600], Loss: 0.2683\n",
      "Epoch [2/10], Step [300/600], Loss: 0.3070\n",
      "Epoch [2/10], Step [400/600], Loss: 0.2253\n",
      "Epoch [2/10], Step [500/600], Loss: 0.1898\n",
      "Epoch [2/10], Step [600/600], Loss: 0.1751\n",
      "Epoch [3/10], Step [100/600], Loss: 0.2438\n",
      "Epoch [3/10], Step [200/600], Loss: 0.1245\n",
      "Epoch [3/10], Step [300/600], Loss: 0.0748\n",
      "Epoch [3/10], Step [400/600], Loss: 0.2596\n",
      "Epoch [3/10], Step [500/600], Loss: 0.2979\n",
      "Epoch [3/10], Step [600/600], Loss: 0.1352\n",
      "Epoch [4/10], Step [100/600], Loss: 0.1193\n",
      "Epoch [4/10], Step [200/600], Loss: 0.1054\n",
      "Epoch [4/10], Step [300/600], Loss: 0.1791\n",
      "Epoch [4/10], Step [400/600], Loss: 0.0672\n",
      "Epoch [4/10], Step [500/600], Loss: 0.2469\n",
      "Epoch [4/10], Step [600/600], Loss: 0.1410\n",
      "Epoch [5/10], Step [100/600], Loss: 0.2164\n",
      "Epoch [5/10], Step [200/600], Loss: 0.2186\n",
      "Epoch [5/10], Step [300/600], Loss: 0.1600\n",
      "Epoch [5/10], Step [400/600], Loss: 0.0727\n",
      "Epoch [5/10], Step [500/600], Loss: 0.1969\n",
      "Epoch [5/10], Step [600/600], Loss: 0.0381\n",
      "Epoch [6/10], Step [100/600], Loss: 0.0796\n",
      "Epoch [6/10], Step [200/600], Loss: 0.1540\n",
      "Epoch [6/10], Step [300/600], Loss: 0.0598\n",
      "Epoch [6/10], Step [400/600], Loss: 0.1677\n",
      "Epoch [6/10], Step [500/600], Loss: 0.1747\n",
      "Epoch [6/10], Step [600/600], Loss: 0.1204\n",
      "Epoch [7/10], Step [100/600], Loss: 0.0999\n",
      "Epoch [7/10], Step [200/600], Loss: 0.0807\n",
      "Epoch [7/10], Step [300/600], Loss: 0.1206\n",
      "Epoch [7/10], Step [400/600], Loss: 0.0838\n",
      "Epoch [7/10], Step [500/600], Loss: 0.1535\n",
      "Epoch [7/10], Step [600/600], Loss: 0.1236\n",
      "Epoch [8/10], Step [100/600], Loss: 0.0674\n",
      "Epoch [8/10], Step [200/600], Loss: 0.0997\n",
      "Epoch [8/10], Step [300/600], Loss: 0.0869\n",
      "Epoch [8/10], Step [400/600], Loss: 0.0614\n",
      "Epoch [8/10], Step [500/600], Loss: 0.0747\n",
      "Epoch [8/10], Step [600/600], Loss: 0.1026\n",
      "Epoch [9/10], Step [100/600], Loss: 0.2481\n",
      "Epoch [9/10], Step [200/600], Loss: 0.0481\n",
      "Epoch [9/10], Step [300/600], Loss: 0.0994\n",
      "Epoch [9/10], Step [400/600], Loss: 0.0756\n",
      "Epoch [9/10], Step [500/600], Loss: 0.0787\n",
      "Epoch [9/10], Step [600/600], Loss: 0.0772\n",
      "Epoch [10/10], Step [100/600], Loss: 0.0337\n",
      "Epoch [10/10], Step [200/600], Loss: 0.0701\n",
      "Epoch [10/10], Step [300/600], Loss: 0.0861\n",
      "Epoch [10/10], Step [400/600], Loss: 0.1729\n",
      "Epoch [10/10], Step [500/600], Loss: 0.1193\n",
      "Epoch [10/10], Step [600/600], Loss: 0.0824\n"
     ]
    }
   ],
   "source": [
    "# Melatih model GRU\n",
    "n_total_steps_gru = len(train_loader)\n",
    "for epoch_gru in range(num_epochs_gru):\n",
    "    for i_gru, (images_gru, labels_gru) in enumerate(train_loader):  \n",
    "        # Ubah bentuk gambar untuk input GRU: [batch, sequence, features]\n",
    "        images_gru = images_gru.reshape(-1, sequence_length_gru, input_size_gru).to(device)\n",
    "        labels_gru = labels_gru.to(device)\n",
    "        \n",
    "        # Forward pass\n",
    "        outputs_gru = model_gru(images_gru)\n",
    "        loss_gru = criterion(outputs_gru, labels_gru)\n",
    "        \n",
    "        # Backward dan optimisasi\n",
    "        optimizer_gru.zero_grad()\n",
    "        loss_gru.backward()\n",
    "        optimizer_gru.step()\n",
    "        \n",
    "        # Print progress setiap 100 batch\n",
    "        if (i_gru+1) % 100 == 0:\n",
    "            print (f'Epoch [{epoch_gru+1}/{num_epochs_gru}], Step [{i_gru+1}/{n_total_steps_gru}], Loss: {loss_gru.item():.4f}')\n"
   ]
  },
  {
   "cell_type": "code",
   "execution_count": 16,
   "id": "533c03e0",
   "metadata": {},
   "outputs": [
    {
     "name": "stdout",
     "output_type": "stream",
     "text": [
      "Accuracy of GRU model on test images: 97.46 %\n"
     ]
    }
   ],
   "source": [
    "# Testing GRU model\n",
    "with torch.no_grad():\n",
    "    n_correct_gru= 0  \n",
    "    n_samples_gru = 0  \n",
    "    \n",
    "    for images_gru, labels_gru in test_loader:\n",
    "        # Reshape images for GRU input\n",
    "        images_gru = images_gru.reshape(-1, sequence_length_gru, input_size_gru).to(device)\n",
    "        labels_gru = labels_gru.to(device)\n",
    "        \n",
    "        # Get predictions\n",
    "        outputs_gru = model_gru(images_gru)\n",
    "        _, predicted_gru = torch.max(outputs_gru.data, 1)\n",
    "        \n",
    "        # Calculate accuracy\n",
    "        n_samples_gru += labels_gru.size(0)\n",
    "        n_correct_gru += (predicted_gru == labels_gru).sum().item()\n",
    "\n",
    "    acc = 100.0 * n_correct_gru / n_samples_gru\n",
    "    print(f'Accuracy of GRU model on test images: {acc} %')\n"
   ]
  }
 ],
 "metadata": {
  "kernelspec": {
   "display_name": "Python 3",
   "language": "python",
   "name": "python3"
  },
  "language_info": {
   "codemirror_mode": {
    "name": "ipython",
    "version": 3
   },
   "file_extension": ".py",
   "mimetype": "text/x-python",
   "name": "python",
   "nbconvert_exporter": "python",
   "pygments_lexer": "ipython3",
   "version": "3.11.9"
  }
 },
 "nbformat": 4,
 "nbformat_minor": 5
}
